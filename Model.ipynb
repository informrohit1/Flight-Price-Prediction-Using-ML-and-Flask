{
 "cells": [
  {
   "cell_type": "code",
   "execution_count": null,
   "id": "37c342f0-121f-483c-98f9-b03298587cbd",
   "metadata": {},
   "outputs": [],
   "source": []
  }
 ],
 "metadata": {
  "kernelspec": {
   "display_name": "",
   "name": ""
  },
  "language_info": {
   "name": ""
  }
 },
 "nbformat": 4,
 "nbformat_minor": 5
}
